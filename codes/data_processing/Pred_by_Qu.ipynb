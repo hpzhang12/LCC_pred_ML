{
 "cells": [
  {
   "cell_type": "code",
   "execution_count": 8,
   "id": "2da244e9",
   "metadata": {
    "id": "2da244e9"
   },
   "outputs": [],
   "source": [
    "import xarray as xr\n",
    "import numpy  as np\n",
    "import pandas as pd\n",
    "import seaborn as sns\n",
    "import matplotlib.pyplot as plt\n",
    "from sklearn.metrics import mean_squared_error, mean_absolute_error\n",
    "import os\n",
    "import pickle"
   ]
  },
  {
   "cell_type": "code",
   "execution_count": 9,
   "id": "9b142cbd",
   "metadata": {
    "colab": {
     "base_uri": "https://localhost:8080/"
    },
    "executionInfo": {
     "elapsed": 12868,
     "status": "ok",
     "timestamp": 1651875847555,
     "user": {
      "displayName": "Haipeng Zhang",
      "userId": "14783312206665290239"
     },
     "user_tz": 240
    },
    "id": "9b142cbd",
    "outputId": "de91b5d8-436b-4a3b-e70b-45f6c0cac8eb"
   },
   "outputs": [],
   "source": [
    "df = pd.read_pickle(\"/glade/work/hpzhang/LCC_pred/data/data_monthly.pkl\").dropna()\n",
    "df = df[df.index.year.isin(np.arange(2003,2019))]\n",
    "df = df[['LCF','EIS','LH','dQ','RH700','OMEGA700','U1000','Tadv']]\n"
   ]
  },
  {
   "cell_type": "code",
   "execution_count": 10,
   "id": "5e07c8e9-8138-4c8a-8b29-d10af81b024e",
   "metadata": {},
   "outputs": [
    {
     "data": {
      "text/html": [
       "<div>\n",
       "<style scoped>\n",
       "    .dataframe tbody tr th:only-of-type {\n",
       "        vertical-align: middle;\n",
       "    }\n",
       "\n",
       "    .dataframe tbody tr th {\n",
       "        vertical-align: top;\n",
       "    }\n",
       "\n",
       "    .dataframe thead th {\n",
       "        text-align: right;\n",
       "    }\n",
       "</style>\n",
       "<table border=\"1\" class=\"dataframe\">\n",
       "  <thead>\n",
       "    <tr style=\"text-align: right;\">\n",
       "      <th></th>\n",
       "      <th>LCF</th>\n",
       "      <th>EIS</th>\n",
       "      <th>LH</th>\n",
       "      <th>dQ</th>\n",
       "      <th>RH700</th>\n",
       "      <th>OMEGA700</th>\n",
       "      <th>U1000</th>\n",
       "      <th>Tadv</th>\n",
       "    </tr>\n",
       "    <tr>\n",
       "      <th>time</th>\n",
       "      <th></th>\n",
       "      <th></th>\n",
       "      <th></th>\n",
       "      <th></th>\n",
       "      <th></th>\n",
       "      <th></th>\n",
       "      <th></th>\n",
       "      <th></th>\n",
       "    </tr>\n",
       "  </thead>\n",
       "  <tbody>\n",
       "    <tr>\n",
       "      <th>2003-01-15</th>\n",
       "      <td>0.590822</td>\n",
       "      <td>7.073290</td>\n",
       "      <td>-14.891875</td>\n",
       "      <td>0.001997</td>\n",
       "      <td>69.974464</td>\n",
       "      <td>0.005796</td>\n",
       "      <td>3.637893</td>\n",
       "      <td>0.898143</td>\n",
       "    </tr>\n",
       "    <tr>\n",
       "      <th>2003-01-15</th>\n",
       "      <td>0.590822</td>\n",
       "      <td>6.971072</td>\n",
       "      <td>-13.840185</td>\n",
       "      <td>0.002030</td>\n",
       "      <td>69.732834</td>\n",
       "      <td>0.010119</td>\n",
       "      <td>3.618882</td>\n",
       "      <td>-0.020427</td>\n",
       "    </tr>\n",
       "    <tr>\n",
       "      <th>2003-01-15</th>\n",
       "      <td>0.556442</td>\n",
       "      <td>6.874149</td>\n",
       "      <td>-13.721111</td>\n",
       "      <td>0.002075</td>\n",
       "      <td>69.224571</td>\n",
       "      <td>0.008408</td>\n",
       "      <td>3.703815</td>\n",
       "      <td>-0.006477</td>\n",
       "    </tr>\n",
       "    <tr>\n",
       "      <th>2003-01-15</th>\n",
       "      <td>0.556442</td>\n",
       "      <td>6.813395</td>\n",
       "      <td>-12.907546</td>\n",
       "      <td>0.002108</td>\n",
       "      <td>69.139580</td>\n",
       "      <td>0.004445</td>\n",
       "      <td>3.733388</td>\n",
       "      <td>0.069008</td>\n",
       "    </tr>\n",
       "    <tr>\n",
       "      <th>2003-01-15</th>\n",
       "      <td>0.584355</td>\n",
       "      <td>6.751677</td>\n",
       "      <td>-12.451134</td>\n",
       "      <td>0.002122</td>\n",
       "      <td>69.027931</td>\n",
       "      <td>0.000932</td>\n",
       "      <td>3.706906</td>\n",
       "      <td>-1.276983</td>\n",
       "    </tr>\n",
       "  </tbody>\n",
       "</table>\n",
       "</div>"
      ],
      "text/plain": [
       "                 LCF       EIS         LH        dQ      RH700  OMEGA700  \\\n",
       "time                                                                       \n",
       "2003-01-15  0.590822  7.073290 -14.891875  0.001997  69.974464  0.005796   \n",
       "2003-01-15  0.590822  6.971072 -13.840185  0.002030  69.732834  0.010119   \n",
       "2003-01-15  0.556442  6.874149 -13.721111  0.002075  69.224571  0.008408   \n",
       "2003-01-15  0.556442  6.813395 -12.907546  0.002108  69.139580  0.004445   \n",
       "2003-01-15  0.584355  6.751677 -12.451134  0.002122  69.027931  0.000932   \n",
       "\n",
       "               U1000      Tadv  \n",
       "time                            \n",
       "2003-01-15  3.637893  0.898143  \n",
       "2003-01-15  3.618882 -0.020427  \n",
       "2003-01-15  3.703815 -0.006477  \n",
       "2003-01-15  3.733388  0.069008  \n",
       "2003-01-15  3.706906 -1.276983  "
      ]
     },
     "execution_count": 10,
     "metadata": {},
     "output_type": "execute_result"
    }
   ],
   "source": [
    "df.head()"
   ]
  },
  {
   "cell_type": "code",
   "execution_count": 11,
   "id": "355bab55-ea0d-4d47-a6ec-6492fd100ef6",
   "metadata": {},
   "outputs": [
    {
     "data": {
      "image/png": "[encoded data removed]",
      "text/plain": [
       "<Figure size 864x720 with 2 Axes>"
      ]
     },
     "metadata": {},
     "output_type": "display_data"
    }
   ],
   "source": [
    "corr = df.corr()\n",
    "\n",
    "#custom_params = {\"axes.spines.right\": False, \"axes.spines.top\": False}\n",
    "sns.set_theme(style=\"ticks\", font_scale = 1.0)\n",
    "\n",
    "mask = np.zeros_like(corr)\n",
    "mask[np.triu_indices_from(mask)] = True\n",
    "\n",
    "def my_mask(x):\n",
    "    if x < 0.4:\n",
    "        y = ''\n",
    "    else:\n",
    "        y = '{0:.2f}'.format(x)\n",
    "    return(y)\n",
    "\n",
    "f, ax = plt.subplots(figsize=(12, 10))\n",
    "g1 = sns.heatmap(corr, ax=ax,\n",
    "                 vmin=0, vmax=1,\n",
    "                 annot=corr.applymap(my_mask), fmt='',\n",
    "                 square=True,\n",
    "                 mask=mask,\n",
    "                 cmap=\"YlGnBu\",\n",
    "                 linewidths=.5)\n",
    "g1.set_xticklabels(g1.get_xmajorticklabels(), fontsize = 13)\n",
    "g1.set_yticklabels(g1.get_ymajorticklabels(), fontsize = 13)\n",
    "plt.show()"
   ]
  },
  {
   "cell_type": "code",
   "execution_count": 12,
   "id": "093a048c-bbd1-44b8-8dce-0fb839759a05",
   "metadata": {},
   "outputs": [],
   "source": [
    "data = df\n",
    "index_train = data.index.year.isin(np.arange(2003,2015))\n",
    "index_test  = data.index.year.isin(np.arange(2015,2019))\n",
    "data_train = data[index_train]\n",
    "data_test  = data[index_test]\n",
    "\n",
    "X_train, y_train = data_train.iloc[:,1:], data_train.iloc[:,0]\n",
    "X_test, y_test   = data_test.iloc[:,1:], data_test.iloc[:,0]\n",
    "\n",
    "from sklearn.preprocessing import StandardScaler\n",
    "scaler=StandardScaler()\n",
    "scaler.fit(X_train)\n",
    "\n",
    "X_train_scaled = scaler.transform(X_train)\n",
    "X_test_scaled  = scaler.transform(X_test)"
   ]
  },
  {
   "cell_type": "code",
   "execution_count": 13,
   "id": "7c51dd17-a0dd-442a-90cb-a9aa21cf26bf",
   "metadata": {},
   "outputs": [
    {
     "name": "stdout",
     "output_type": "stream",
     "text": [
      "Mean squared error from linear regression:  0.007636191414568694\n",
      "Mean absolute error from linear regression:  0.06513416041417992\n",
      "EIS         0.126036\n",
      "LH          0.033632\n",
      "dQ          0.027660\n",
      "OMEGA700    0.025818\n",
      "U1000       0.011550\n",
      "Tadv        0.007165\n",
      "RH700       0.003977\n",
      "dtype: float64\n"
     ]
    }
   ],
   "source": [
    "### Linear regression\n",
    "from sklearn import linear_model\n",
    "from sklearn.tree import DecisionTreeRegressor\n",
    "from sklearn.metrics import mean_squared_error, mean_absolute_error\n",
    "\n",
    "lr_model = linear_model.LinearRegression()\n",
    "lr_model.fit(X_train_scaled, y_train)\n",
    "\n",
    "### save model ###\n",
    "file_name = \"/glade/work/hpzhang/LCC_pred/data/lr_reg.pkl\"\n",
    "pickle.dump(lr_model, open(file_name, \"wb\"))\n",
    "\n",
    "y_pred_lr = lr_model.predict(X_test_scaled)\n",
    "mse_lr = mean_squared_error(y_test, y_pred_lr)\n",
    "mae_lr = mean_absolute_error(y_test, y_pred_lr)\n",
    "print('Mean squared error from linear regression: ', mse_lr)\n",
    "print('Mean absolute error from linear regression: ', mae_lr)\n",
    "\n",
    "# summarize feature importance\n",
    "feature_list = list(data.columns[1:])\n",
    "feature_imp_lr = pd.Series(abs(lr_model.coef_), index=feature_list).sort_values(ascending=False)\n",
    "print(feature_imp_lr)"
   ]
  },
  {
   "cell_type": "code",
   "execution_count": 14,
   "id": "b2ef01c9-3b70-4c1c-a07d-e2c41d208c1f",
   "metadata": {},
   "outputs": [],
   "source": [
    "### output ###\n",
    "\n",
    "var = 'Qu'\n",
    "os.system(\"mkdir -p /glade/work/hpzhang/LCC_pred/data/{}\".format(var))\n",
    "np.save(\"/glade/work/hpzhang/LCC_pred/data/{}/y_pred_lr.npy\".format(var), np.array(y_pred_lr))\n"
   ]
  },
  {
   "cell_type": "code",
   "execution_count": null,
   "id": "7c8195fc-0700-4c44-8e86-d73356f7a78c",
   "metadata": {},
   "outputs": [],
   "source": []
  }
 ],
 "metadata": {
  "colab": {
   "collapsed_sections": [],
   "name": "ML_monthly.ipynb",
   "provenance": []
  },
  "kernelspec": {
   "display_name": "Python [conda env:anaconda3-geocat]",
   "language": "python",
   "name": "conda-env-anaconda3-geocat-py"
  },
  "language_info": {
   "codemirror_mode": {
    "name": "ipython",
    "version": 3
   },
   "file_extension": ".py",
   "mimetype": "text/x-python",
   "name": "python",
   "nbconvert_exporter": "python",
   "pygments_lexer": "ipython3",
   "version": "3.9.12"
  }
 },
 "nbformat": 4,
 "nbformat_minor": 5
}
