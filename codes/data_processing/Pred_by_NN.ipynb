{
 "cells": [
  {
   "cell_type": "code",
   "execution_count": 1,
   "id": "2da244e9",
   "metadata": {
    "id": "2da244e9"
   },
   "outputs": [],
   "source": [
    "import xarray as xr\n",
    "import numpy  as np\n",
    "import pandas as pd\n",
    "import seaborn as sns\n",
    "import matplotlib.pyplot as plt\n",
    "from sklearn.metrics import mean_squared_error, mean_absolute_error\n",
    "import os"
   ]
  },
  {
   "cell_type": "code",
   "execution_count": 2,
   "id": "70060952-0a58-4b75-b613-e5c42b7e46b9",
   "metadata": {
    "colab": {
     "base_uri": "https://localhost:8080/"
    },
    "executionInfo": {
     "elapsed": 12868,
     "status": "ok",
     "timestamp": 1651875847555,
     "user": {
      "displayName": "Haipeng Zhang",
      "userId": "14783312206665290239"
     },
     "user_tz": 240
    },
    "id": "9b142cbd",
    "outputId": "de91b5d8-436b-4a3b-e70b-45f6c0cac8eb"
   },
   "outputs": [
    {
     "data": {
      "text/plain": [
       "5350237"
      ]
     },
     "execution_count": 2,
     "metadata": {},
     "output_type": "execute_result"
    }
   ],
   "source": [
    "ff = pd.read_pickle(\"/glade/work/hpzhang/LCC_pred/data/data_monthly.pkl\").dropna()\n",
    "df  = ff.drop(columns=['lat', 'lon', 'lsm', 'T1000', 'T700', 'EIS', 'ECTEI','ELF','SST', 'AOD'])\n",
    "df = df[df.index.year.isin(np.arange(2003,2019))]\n",
    "len(df)"
   ]
  },
  {
   "cell_type": "code",
   "execution_count": 3,
   "id": "35d3fbdb-cb5e-4c36-9dd0-407f16b1b88f",
   "metadata": {},
   "outputs": [],
   "source": [
    "data = df\n",
    "index_train = data.index.year.isin(np.arange(2003,2015))\n",
    "index_test  = data.index.year.isin(np.arange(2015,2019))\n",
    "data_train = data[index_train]\n",
    "data_test  = data[index_test]\n",
    "\n",
    "X_train, y_train = data_train.iloc[:,1:], data_train.iloc[:,0]\n",
    "X_test, y_test   = data_test.iloc[:,1:], data_test.iloc[:,0]\n",
    "\n",
    "from sklearn.preprocessing import StandardScaler\n",
    "scaler=StandardScaler()\n",
    "scaler.fit(X_train)\n",
    "\n",
    "X_train_scaled = scaler.transform(X_train)\n",
    "X_test_scaled  = scaler.transform(X_test)"
   ]
  },
  {
   "cell_type": "code",
   "execution_count": 4,
   "id": "c70ff134-6bb1-40f8-a91a-cae160e31465",
   "metadata": {},
   "outputs": [],
   "source": [
    "#!export LD_LIBRARY_PATH=$LD_LIBRARY_PATH:$CONDA_PREFIX/lib/\n",
    "#!nvidia-smi\n",
    "#!echo $CONDA_PREFIX\n",
    "#!python3 -c \"import tensorflow as tf; print(tf.config.list_physical_devices('GPU'))\""
   ]
  },
  {
   "cell_type": "code",
   "execution_count": 5,
   "id": "80e050ea",
   "metadata": {
    "colab": {
     "base_uri": "https://localhost:8080/",
     "height": 1000
    },
    "executionInfo": {
     "elapsed": 9372,
     "status": "error",
     "timestamp": 1652845659262,
     "user": {
      "displayName": "Haipeng Zhang",
      "userId": "14783312206665290239"
     },
     "user_tz": 240
    },
    "id": "80e050ea",
    "outputId": "77a91d34-4415-4bda-b629-fb551c28d421"
   },
   "outputs": [
    {
     "name": "stderr",
     "output_type": "stream",
     "text": [
      "2022-06-27 12:41:09.038642: I tensorflow/core/platform/cpu_feature_guard.cc:151] This TensorFlow binary is optimized with oneAPI Deep Neural Network Library (oneDNN) to use the following CPU instructions in performance-critical operations:  AVX2 AVX512F FMA\n",
      "To enable them in other operations, rebuild TensorFlow with the appropriate compiler flags.\n",
      "2022-06-27 12:41:12.049049: I tensorflow/core/common_runtime/gpu/gpu_device.cc:1525] Created device /job:localhost/replica:0/task:0/device:GPU:0 with 30990 MB memory:  -> device: 0, name: Tesla V100-SXM2-32GB, pci bus id: 0000:61:00.0, compute capability: 7.0\n"
     ]
    },
    {
     "name": "stdout",
     "output_type": "stream",
     "text": [
      "Model: \"sequential\"\n",
      "_________________________________________________________________\n",
      " Layer (type)                Output Shape              Param #   \n",
      "=================================================================\n",
      " dense (Dense)               (None, 64)                1280      \n",
      "                                                                 \n",
      " dense_1 (Dense)             (None, 64)                4160      \n",
      "                                                                 \n",
      " dense_2 (Dense)             (None, 64)                4160      \n",
      "                                                                 \n",
      " dense_3 (Dense)             (None, 32)                2080      \n",
      "                                                                 \n",
      " dense_4 (Dense)             (None, 32)                1056      \n",
      "                                                                 \n",
      " dropout (Dropout)           (None, 32)                0         \n",
      "                                                                 \n",
      " dense_5 (Dense)             (None, 1)                 33        \n",
      "                                                                 \n",
      "=================================================================\n",
      "Total params: 12,769\n",
      "Trainable params: 12,769\n",
      "Non-trainable params: 0\n",
      "_________________________________________________________________\n",
      "Epoch 1/30\n",
      "3134/3134 [==============================] - 8s 2ms/step - loss: 0.0051 - mae: 0.0529 - val_loss: 0.0034 - val_mae: 0.0440\n",
      "Epoch 2/30\n",
      "3134/3134 [==============================] - 6s 2ms/step - loss: 0.0036 - mae: 0.0460 - val_loss: 0.0030 - val_mae: 0.0417\n",
      "Epoch 3/30\n",
      "3134/3134 [==============================] - 7s 2ms/step - loss: 0.0034 - mae: 0.0450 - val_loss: 0.0029 - val_mae: 0.0410\n",
      "Epoch 4/30\n",
      "3134/3134 [==============================] - 6s 2ms/step - loss: 0.0033 - mae: 0.0444 - val_loss: 0.0029 - val_mae: 0.0408\n",
      "Epoch 5/30\n",
      "3134/3134 [==============================] - 6s 2ms/step - loss: 0.0032 - mae: 0.0440 - val_loss: 0.0029 - val_mae: 0.0411\n",
      "Epoch 6/30\n",
      "3134/3134 [==============================] - 6s 2ms/step - loss: 0.0032 - mae: 0.0436 - val_loss: 0.0028 - val_mae: 0.0402\n",
      "Epoch 7/30\n",
      "3134/3134 [==============================] - 6s 2ms/step - loss: 0.0031 - mae: 0.0434 - val_loss: 0.0028 - val_mae: 0.0402\n",
      "Epoch 8/30\n",
      "3134/3134 [==============================] - 7s 2ms/step - loss: 0.0031 - mae: 0.0431 - val_loss: 0.0027 - val_mae: 0.0402\n",
      "Epoch 9/30\n",
      "3134/3134 [==============================] - 6s 2ms/step - loss: 0.0031 - mae: 0.0429 - val_loss: 0.0027 - val_mae: 0.0399\n",
      "Epoch 10/30\n",
      "3134/3134 [==============================] - 7s 2ms/step - loss: 0.0030 - mae: 0.0428 - val_loss: 0.0027 - val_mae: 0.0400\n",
      "Epoch 11/30\n",
      "3134/3134 [==============================] - 7s 2ms/step - loss: 0.0030 - mae: 0.0426 - val_loss: 0.0027 - val_mae: 0.0398\n",
      "Epoch 12/30\n",
      "3134/3134 [==============================] - 7s 2ms/step - loss: 0.0030 - mae: 0.0425 - val_loss: 0.0027 - val_mae: 0.0398\n",
      "Epoch 13/30\n",
      "3134/3134 [==============================] - 7s 2ms/step - loss: 0.0030 - mae: 0.0423 - val_loss: 0.0027 - val_mae: 0.0395\n",
      "Epoch 14/30\n",
      "3134/3134 [==============================] - 6s 2ms/step - loss: 0.0029 - mae: 0.0422 - val_loss: 0.0027 - val_mae: 0.0397\n",
      "Epoch 15/30\n",
      "3134/3134 [==============================] - 7s 2ms/step - loss: 0.0029 - mae: 0.0421 - val_loss: 0.0027 - val_mae: 0.0393\n",
      "Epoch 16/30\n",
      "3134/3134 [==============================] - 7s 2ms/step - loss: 0.0029 - mae: 0.0420 - val_loss: 0.0027 - val_mae: 0.0396\n",
      "Epoch 17/30\n",
      "3134/3134 [==============================] - 7s 2ms/step - loss: 0.0029 - mae: 0.0419 - val_loss: 0.0027 - val_mae: 0.0399\n",
      "Epoch 18/30\n",
      "3134/3134 [==============================] - 7s 2ms/step - loss: 0.0029 - mae: 0.0419 - val_loss: 0.0028 - val_mae: 0.0401\n",
      "Epoch 19/30\n",
      "3134/3134 [==============================] - 7s 2ms/step - loss: 0.0029 - mae: 0.0418 - val_loss: 0.0026 - val_mae: 0.0392\n",
      "Epoch 20/30\n",
      "3134/3134 [==============================] - 6s 2ms/step - loss: 0.0029 - mae: 0.0417 - val_loss: 0.0026 - val_mae: 0.0391\n",
      "Epoch 21/30\n",
      "3134/3134 [==============================] - 7s 2ms/step - loss: 0.0029 - mae: 0.0417 - val_loss: 0.0027 - val_mae: 0.0401\n",
      "Epoch 22/30\n",
      "3134/3134 [==============================] - 6s 2ms/step - loss: 0.0029 - mae: 0.0416 - val_loss: 0.0027 - val_mae: 0.0394\n",
      "Epoch 23/30\n",
      "3134/3134 [==============================] - 7s 2ms/step - loss: 0.0028 - mae: 0.0416 - val_loss: 0.0027 - val_mae: 0.0395\n",
      "Epoch 24/30\n",
      "3134/3134 [==============================] - 6s 2ms/step - loss: 0.0028 - mae: 0.0415 - val_loss: 0.0027 - val_mae: 0.0398\n",
      "Epoch 25/30\n",
      "3134/3134 [==============================] - 7s 2ms/step - loss: 0.0028 - mae: 0.0414 - val_loss: 0.0026 - val_mae: 0.0392\n",
      "Epoch 26/30\n",
      "3134/3134 [==============================] - 7s 2ms/step - loss: 0.0028 - mae: 0.0414 - val_loss: 0.0027 - val_mae: 0.0394\n",
      "Epoch 27/30\n",
      "3134/3134 [==============================] - 6s 2ms/step - loss: 0.0028 - mae: 0.0414 - val_loss: 0.0026 - val_mae: 0.0393\n",
      "Epoch 28/30\n",
      "3134/3134 [==============================] - 7s 2ms/step - loss: 0.0028 - mae: 0.0413 - val_loss: 0.0027 - val_mae: 0.0395\n",
      "Epoch 29/30\n",
      "3134/3134 [==============================] - 7s 2ms/step - loss: 0.0028 - mae: 0.0413 - val_loss: 0.0027 - val_mae: 0.0394\n",
      "Epoch 30/30\n",
      "3134/3134 [==============================] - 7s 2ms/step - loss: 0.0028 - mae: 0.0412 - val_loss: 0.0026 - val_mae: 0.0391\n"
     ]
    },
    {
     "name": "stderr",
     "output_type": "stream",
     "text": [
      "2022-06-27 12:44:30.806779: W tensorflow/python/util/util.cc:368] Sets are not currently considered sequences, but this may change in the future, so consider avoiding using them.\n",
      "WARNING:absl:Found untraced functions such as activation_layer_call_fn, activation_layer_call_and_return_conditional_losses while saving (showing 2 of 2). These functions will not be directly callable after loading.\n"
     ]
    },
    {
     "name": "stdout",
     "output_type": "stream",
     "text": [
      "INFO:tensorflow:Assets written to: /glade/work/hpzhang/LCC_pred/data/NN_model/assets\n"
     ]
    },
    {
     "name": "stderr",
     "output_type": "stream",
     "text": [
      "INFO:tensorflow:Assets written to: /glade/work/hpzhang/LCC_pred/data/NN_model/assets\n"
     ]
    },
    {
     "data": {
      "image/png": "[encoded data removed]",
      "text/plain": [
       "<Figure size 432x288 with 1 Axes>"
      ]
     },
     "metadata": {
      "needs_background": "light"
     },
     "output_type": "display_data"
    },
    {
     "data": {
      "image/png": "[encoded data removed]",
      "text/plain": [
       "<Figure size 432x288 with 1 Axes>"
      ]
     },
     "metadata": {
      "needs_background": "light"
     },
     "output_type": "display_data"
    },
    {
     "name": "stdout",
     "output_type": "stream",
     "text": [
      "41869/41869 [==============================] - 45s 1ms/step - loss: 0.0027 - mae: 0.0395\n",
      "Mean squared error from neural net:  0.0027213681023567915\n",
      "Mean absolute error from neural net:  0.03952227905392647\n"
     ]
    }
   ],
   "source": [
    "\n",
    "### NNs, define the model\n",
    "#Experiment with deeper and wider networks\n",
    "import tensorflow as tf\n",
    "from tensorflow import keras\n",
    "from tensorflow.keras.models import Sequential\n",
    "from tensorflow.keras.layers import Dense, Dropout\n",
    "from tensorflow.keras.backend import sigmoid\n",
    "from tensorflow.keras.utils import get_custom_objects\n",
    "from tensorflow.keras.layers import Activation\n",
    "\n",
    "\n",
    "def swish(x, beta = 1):\n",
    "    return (x * sigmoid(beta * x))\n",
    "get_custom_objects().update({'swish': Activation(swish)})\n",
    "\n",
    "#with tf.device('/device:GPU:0'):\n",
    "#GPUs = [\"GPU:0\",\"GPU:1\"]\n",
    "#strategy = tf.distribute.MirroredStrategy() #(GPUs)\n",
    "#with strategy.scope():\n",
    "\n",
    "model = Sequential()\n",
    "initializer = tf.keras.initializers.HeUniform()\n",
    "model.add(Dense(64, input_dim=X_train_scaled.shape[1], activation='swish', kernel_initializer=initializer))\n",
    "model.add(Dense(64, activation='swish'))\n",
    "model.add(Dense(64, activation='swish'))\n",
    "model.add(Dense(32, activation='swish'))\n",
    "model.add(Dense(32, activation='swish'))\n",
    "model.add(Dropout(0.4))\n",
    "model.add(Dense(1, activation='tanh'))\n",
    "\n",
    "model.compile(loss='mse', optimizer='adam', metrics=['mae'])\n",
    "\n",
    "model.summary()\n",
    "history = model.fit(X_train_scaled, y_train,\n",
    "                    validation_split=0.2, \n",
    "                    epochs =30,\n",
    "                    batch_size=1024,\n",
    "                    verbose = 1)\n",
    "\n",
    "# save model\n",
    "model.save('/glade/work/hpzhang/LCC_pred/data/NN_model')\n",
    "\n",
    "#plot the training and validation accuracy and loss at each epoch\n",
    "loss = history.history['loss']\n",
    "val_loss = history.history['val_loss']\n",
    "epochs = range(1, len(loss) + 1)\n",
    "plt.plot(epochs, loss, 'y', label='Training loss')\n",
    "plt.plot(epochs, val_loss, 'r', label='Validation loss')\n",
    "plt.title('Training and validation loss')\n",
    "plt.xlabel('Epochs')\n",
    "plt.ylabel('Loss')\n",
    "plt.legend()\n",
    "plt.show()\n",
    "\n",
    "\n",
    "acc = history.history['mae']\n",
    "val_acc = history.history['val_mae']\n",
    "plt.plot(epochs, acc, 'y', label='Training MAE')\n",
    "plt.plot(epochs, val_acc, 'r', label='Validation MAE')\n",
    "plt.title('Training and validation MAE')\n",
    "plt.xlabel('Epochs')\n",
    "plt.ylabel('Accuracy')\n",
    "plt.legend()\n",
    "plt.show()\n",
    "\n",
    "y_pred_neural = model.predict(X_test_scaled)\n",
    "\n",
    "mse_neural, mae_neural = model.evaluate(X_test_scaled, y_test)\n",
    "print('Mean squared error from neural net: ', mse_neural)\n",
    "print('Mean absolute error from neural net: ', mae_neural)"
   ]
  },
  {
   "cell_type": "code",
   "execution_count": 6,
   "id": "f0d76d56-c0d2-4e6e-8148-9e7bd8757356",
   "metadata": {},
   "outputs": [],
   "source": [
    "### output ###\n",
    "\n",
    "var = 'NN'\n",
    "os.system(\"mkdir -p /glade/work/hpzhang/LCC_pred/data/{}\".format(var))\n",
    "np.save(\"/glade/work/hpzhang/LCC_pred/data/{}/loss.npy\".format(var), np.array(history.history['loss']))\n",
    "np.save(\"/glade/work/hpzhang/LCC_pred/data/{}/val_loss.npy\".format(var), np.array(history.history['val_loss']))\n",
    "\n",
    "np.save(\"/glade/work/hpzhang/LCC_pred/data/{}/mae.npy\".format(var), np.array(history.history['mae']))\n",
    "np.save(\"/glade/work/hpzhang/LCC_pred/data/{}/val_mae.npy\".format(var), np.array(history.history['val_mae']))\n",
    "\n",
    "np.save(\"/glade/work/hpzhang/LCC_pred/data/{}/y_pred_neural.npy\".format(var), np.array(y_pred_neural))\n"
   ]
  },
  {
   "cell_type": "code",
   "execution_count": null,
   "id": "654ca181-3b11-4424-87c5-0510ce97ec08",
   "metadata": {},
   "outputs": [],
   "source": []
  }
 ],
 "metadata": {
  "colab": {
   "collapsed_sections": [],
   "name": "ML_monthly.ipynb",
   "provenance": []
  },
  "kernelspec": {
   "display_name": "Python [conda env:anaconda3-geocat]",
   "language": "python",
   "name": "conda-env-anaconda3-geocat-py"
  },
  "language_info": {
   "codemirror_mode": {
    "name": "ipython",
    "version": 3
   },
   "file_extension": ".py",
   "mimetype": "text/x-python",
   "name": "python",
   "nbconvert_exporter": "python",
   "pygments_lexer": "ipython3",
   "version": "3.9.12"
  }
 },
 "nbformat": 4,
 "nbformat_minor": 5
}
