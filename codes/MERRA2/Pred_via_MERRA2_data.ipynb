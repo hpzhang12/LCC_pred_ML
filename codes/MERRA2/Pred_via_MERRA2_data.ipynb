{
 "cells": [
  {
   "cell_type": "code",
   "execution_count": 1,
   "id": "2da244e9",
   "metadata": {
    "id": "2da244e9"
   },
   "outputs": [
    {
     "name": "stderr",
     "output_type": "stream",
     "text": [
      "/glade/work/hpzhang/tools/anaconda3/envs/geocat/lib/python3.9/site-packages/tqdm/auto.py:22: TqdmWarning: IProgress not found. Please update jupyter and ipywidgets. See https://ipywidgets.readthedocs.io/en/stable/user_install.html\n",
      "  from .autonotebook import tqdm as notebook_tqdm\n",
      "pandas.Int64Index is deprecated and will be removed from pandas in a future version. Use pandas.Index with the appropriate dtype instead.\n"
     ]
    }
   ],
   "source": [
    "import xarray as xr\n",
    "import numpy  as np\n",
    "import pandas as pd\n",
    "import seaborn as sns\n",
    "import matplotlib.pyplot as plt\n",
    "import shap\n",
    "from sklearn.metrics import mean_squared_error, mean_absolute_error\n",
    "import xgboost as xgb\n",
    "import os\n",
    "import pickle"
   ]
  },
  {
   "cell_type": "code",
   "execution_count": 2,
   "id": "018213c9-621b-4e0a-b68c-a4eaed326bd6",
   "metadata": {},
   "outputs": [],
   "source": [
    "## prepare data for XGB/NN model\n",
    "df1 = pd.read_pickle(\"/glade/work/hpzhang/LCC_pred/data/data_monthly.pkl\").dropna()\n",
    "df1 = df1.drop(columns=['lat', 'lon', 'lsm', 'T1000', 'T700', 'EIS', 'ECTEI','ELF','SST','AOD'])\n",
    "df1 = df1[df1.index.year.isin(np.arange(2003,2015))]\n",
    "\n",
    "\n",
    "df2  = pd.read_pickle(\"/glade/work/hpzhang/LCC_pred/data/data_monthly_merra2.pkl\").dropna()\n",
    "df2  = df2.drop(columns=['lat', 'lon', 'lsm', 'T1000', 'T700', 'EIS', 'ECTEI','ELF','SST'])"
   ]
  },
  {
   "cell_type": "code",
   "execution_count": 3,
   "id": "093a048c-bbd1-44b8-8dce-0fb839759a05",
   "metadata": {},
   "outputs": [],
   "source": [
    "data_train = df1\n",
    "data_test  = df2\n",
    "\n",
    "X_train, y_train = data_train.iloc[:,1:], data_train.iloc[:,0]\n",
    "X_test, y_test   = data_test.iloc[:,1:], data_test.iloc[:,0]\n",
    "\n",
    "from sklearn.preprocessing import StandardScaler\n",
    "scaler=StandardScaler()\n",
    "scaler.fit(X_train)\n",
    "\n",
    "X_train_scaled = scaler.transform(X_train)\n",
    "X_test_scaled  = scaler.transform(X_test)\n"
   ]
  },
  {
   "cell_type": "code",
   "execution_count": 4,
   "id": "kvbNw_eRn7aO",
   "metadata": {
    "colab": {
     "base_uri": "https://localhost:8080/"
    },
    "executionInfo": {
     "elapsed": 741962,
     "status": "ok",
     "timestamp": 1651795716827,
     "user": {
      "displayName": "Haipeng Zhang",
      "userId": "14783312206665290239"
     },
     "user_tz": 240
    },
    "id": "kvbNw_eRn7aO",
    "outputId": "ed6586e1-9415-4f6c-f88d-1be56bdd0c42"
   },
   "outputs": [
    {
     "name": "stdout",
     "output_type": "stream",
     "text": [
      "Test\n",
      "Mean squared error using XGBoost:  0.040152006\n",
      "Mean absolute error Using XGBoost:  0.17256394\n",
      "Training\n",
      "Mean squared error using XGBoost:  0.002556344\n",
      "Mean absolute error Using XGBoost:  0.038721927\n"
     ]
    }
   ],
   "source": [
    "import xgboost as xgb\n",
    "import pickle\n",
    "\n",
    "### load XGB model ###\n",
    "file_name = \"/glade/work/hpzhang/LCC_pred/data/xgb_reg.pkl\"\n",
    "model = pickle.load(open(file_name, \"rb\"))\n",
    "\n",
    "# Predicting the Test set results\n",
    "y_pred_XGB = model.predict(X_test_scaled)\n",
    "mse_XGB = mean_squared_error(y_test, y_pred_XGB)\n",
    "mae_XGB = mean_absolute_error(y_test, y_pred_XGB)\n",
    "print('Test')\n",
    "print('Mean squared error using XGBoost: ', mse_XGB)\n",
    "print('Mean absolute error Using XGBoost: ', mae_XGB)\n",
    "\n",
    "# Predicting the Training set results\n",
    "y_train_XGB = model.predict(X_train_scaled)\n",
    "mse_XGB = mean_squared_error(y_train, y_train_XGB)\n",
    "mae_XGB = mean_absolute_error(y_train, y_train_XGB)\n",
    "print('Training')\n",
    "print('Mean squared error using XGBoost: ', mse_XGB)\n",
    "print('Mean absolute error Using XGBoost: ', mae_XGB)"
   ]
  },
  {
   "cell_type": "code",
   "execution_count": 5,
   "id": "b2ef01c9-3b70-4c1c-a07d-e2c41d208c1f",
   "metadata": {},
   "outputs": [],
   "source": [
    "### XGB output ###\n",
    "var = 'MERRA2_output'\n",
    "os.system(\"mkdir -p /glade/work/hpzhang/LCC_pred/data/{}\".format(var))\n",
    "np.save(\"/glade/work/hpzhang/LCC_pred/data/{}/y_pred_XGB.npy\".format(var), np.array(y_pred_XGB))\n"
   ]
  },
  {
   "cell_type": "code",
   "execution_count": 6,
   "id": "7c8195fc-0700-4c44-8e86-d73356f7a78c",
   "metadata": {},
   "outputs": [
    {
     "name": "stderr",
     "output_type": "stream",
     "text": [
      "2022-06-27 22:53:42.833279: I tensorflow/core/platform/cpu_feature_guard.cc:151] This TensorFlow binary is optimized with oneAPI Deep Neural Network Library (oneDNN) to use the following CPU instructions in performance-critical operations:  AVX2 AVX512F FMA\n",
      "To enable them in other operations, rebuild TensorFlow with the appropriate compiler flags.\n",
      "2022-06-27 22:53:43.504894: I tensorflow/core/common_runtime/gpu/gpu_device.cc:1525] Created device /job:localhost/replica:0/task:0/device:GPU:0 with 30559 MB memory:  -> device: 0, name: Tesla V100-SXM2-32GB, pci bus id: 0000:61:00.0, compute capability: 7.0\n"
     ]
    },
    {
     "name": "stdout",
     "output_type": "stream",
     "text": [
      "24254/24254 [==============================] - 27s 1ms/step - loss: 0.0354 - mae: 0.1591\n",
      "Mean squared error from neural net:  0.03539206087589264\n",
      "Mean absolute error from neural net:  0.15912756323814392\n"
     ]
    }
   ],
   "source": [
    "import tensorflow as tf\n",
    "\n",
    "### load NN model ###\n",
    "model = tf.keras.models.load_model('/glade/work/hpzhang/LCC_pred/data/NN_model')\n",
    "\n",
    "# Predicting the Test set results\n",
    "y_pred_neural = model.predict(X_test_scaled)\n",
    "mse_neural, mae_neural = model.evaluate(X_test_scaled, y_test)\n",
    "print('Mean squared error from neural net: ', mse_neural)\n",
    "print('Mean absolute error from neural net: ', mae_neural)\n",
    "\n"
   ]
  },
  {
   "cell_type": "code",
   "execution_count": 7,
   "id": "ed1f3f36-3d58-4e33-ae8c-6a2ea808480d",
   "metadata": {},
   "outputs": [],
   "source": [
    "### NN output ###\n",
    "\n",
    "var = 'MERRA2_output'\n",
    "os.system(\"mkdir -p /glade/work/hpzhang/LCC_pred/data/{}\".format(var))\n",
    "np.save(\"/glade/work/hpzhang/LCC_pred/data/{}/y_pred_neural.npy\".format(var), np.array(y_pred_neural))"
   ]
  },
  {
   "cell_type": "code",
   "execution_count": null,
   "id": "478a12f1-16e8-4664-89b2-d4ecb3bcf2de",
   "metadata": {},
   "outputs": [],
   "source": []
  },
  {
   "cell_type": "code",
   "execution_count": 8,
   "id": "636c6cd8-0793-4229-8595-3d534670e1a0",
   "metadata": {},
   "outputs": [],
   "source": [
    "## prepare data for Qu model\n",
    "\n",
    "df1 = pd.read_pickle(\"/glade/work/hpzhang/LCC_pred/data/data_monthly.pkl\").dropna()\n",
    "df1 = df1[['LCF','EIS','LH','dQ','RH700','OMEGA700','U1000','Tadv']]\n",
    "df1 = df1[df1.index.year.isin(np.arange(2003,2015))]\n",
    "\n",
    "df2  = pd.read_pickle(\"/glade/work/hpzhang/LCC_pred/data/data_monthly_merra2.pkl\").dropna()\n",
    "df2 = df2[['LCF','EIS','LH','dQ','RH700','OMEGA700','U1000','Tadv']]\n",
    "\n",
    "data_train = df1\n",
    "data_test  = df2\n",
    "\n",
    "X_train, y_train = data_train.iloc[:,1:], data_train.iloc[:,0]\n",
    "X_test, y_test   = data_test.iloc[:,1:], data_test.iloc[:,0]\n",
    "\n",
    "from sklearn.preprocessing import StandardScaler\n",
    "scaler=StandardScaler()\n",
    "scaler.fit(X_train)\n",
    "\n",
    "X_train_scaled = scaler.transform(X_train)\n",
    "X_test_scaled  = scaler.transform(X_test)"
   ]
  },
  {
   "cell_type": "code",
   "execution_count": 9,
   "id": "b6b7208b-5a7e-4c82-863f-338d7e49675b",
   "metadata": {},
   "outputs": [
    {
     "name": "stdout",
     "output_type": "stream",
     "text": [
      "Mean squared error from linear regression:  0.048834330317338595\n",
      "Mean absolute error from linear regression:  0.19064497534590347\n",
      "EIS         0.126036\n",
      "LH          0.033632\n",
      "dQ          0.027660\n",
      "OMEGA700    0.025818\n",
      "U1000       0.011550\n",
      "Tadv        0.007165\n",
      "RH700       0.003977\n",
      "dtype: float64\n"
     ]
    }
   ],
   "source": [
    "### load Qu/linear model ###\n",
    "file_name = \"/glade/work/hpzhang/LCC_pred/data/lr_reg.pkl\"\n",
    "lr_model = pickle.load(open(file_name, \"rb\"))\n",
    "\n",
    "y_pred_lr = lr_model.predict(X_test_scaled)\n",
    "mse_lr = mean_squared_error(y_test, y_pred_lr)\n",
    "mae_lr = mean_absolute_error(y_test, y_pred_lr)\n",
    "print('Mean squared error from linear regression: ', mse_lr)\n",
    "print('Mean absolute error from linear regression: ', mae_lr)\n",
    "\n",
    "# summarize feature importance\n",
    "feature_list = list(df1.columns[1:])\n",
    "feature_imp_lr = pd.Series(abs(lr_model.coef_), index=feature_list).sort_values(ascending=False)\n",
    "print(feature_imp_lr)"
   ]
  },
  {
   "cell_type": "code",
   "execution_count": 10,
   "id": "5132f212-7d80-4069-9f8e-1185610490b3",
   "metadata": {},
   "outputs": [],
   "source": [
    "### Qu output ###\n",
    "\n",
    "var = 'MERRA2_output'\n",
    "os.system(\"mkdir -p /glade/work/hpzhang/LCC_pred/data/{}\".format(var))\n",
    "np.save(\"/glade/work/hpzhang/LCC_pred/data/{}/y_pred_lr.npy\".format(var), np.array(y_pred_lr))"
   ]
  },
  {
   "cell_type": "code",
   "execution_count": null,
   "id": "b522eb84-bceb-452a-9f6a-66b2bdef21c6",
   "metadata": {},
   "outputs": [],
   "source": []
  }
 ],
 "metadata": {
  "colab": {
   "collapsed_sections": [],
   "name": "ML_monthly.ipynb",
   "provenance": []
  },
  "kernelspec": {
   "display_name": "Python [conda env:anaconda3-geocat]",
   "language": "python",
   "name": "conda-env-anaconda3-geocat-py"
  },
  "language_info": {
   "codemirror_mode": {
    "name": "ipython",
    "version": 3
   },
   "file_extension": ".py",
   "mimetype": "text/x-python",
   "name": "python",
   "nbconvert_exporter": "python",
   "pygments_lexer": "ipython3",
   "version": "3.9.12"
  }
 },
 "nbformat": 4,
 "nbformat_minor": 5
}
