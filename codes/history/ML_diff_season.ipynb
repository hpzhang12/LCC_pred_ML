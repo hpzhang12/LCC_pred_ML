{
 "cells": [
  {
   "cell_type": "code",
   "execution_count": 15,
   "id": "2da244e9",
   "metadata": {
    "executionInfo": {
     "elapsed": 153,
     "status": "ok",
     "timestamp": 1651850016140,
     "user": {
      "displayName": "Haipeng Zhang",
      "userId": "14783312206665290239"
     },
     "user_tz": 240
    },
    "id": "2da244e9"
   },
   "outputs": [],
   "source": [
    "import xarray as xr\n",
    "import numpy  as np\n",
    "import pandas as pd\n",
    "import seaborn as sns\n",
    "import matplotlib.pyplot as plt\n",
    "from sklearn.metrics import mean_squared_error, mean_absolute_error\n",
    "import os\n",
    "import xgboost as xgb\n",
    "import pickle"
   ]
  },
  {
   "cell_type": "code",
   "execution_count": 21,
   "id": "9CJxkLJnsVpb",
   "metadata": {
    "colab": {
     "base_uri": "https://localhost:8080/"
    },
    "executionInfo": {
     "elapsed": 5876,
     "status": "ok",
     "timestamp": 1651850023885,
     "user": {
      "displayName": "Haipeng Zhang",
      "userId": "14783312206665290239"
     },
     "user_tz": 240
    },
    "id": "9CJxkLJnsVpb",
    "outputId": "b3ac9441-7cee-4d4b-f79b-75560bdb8d5f"
   },
   "outputs": [
    {
     "data": {
      "text/plain": [
       "5401767"
      ]
     },
     "execution_count": 21,
     "metadata": {},
     "output_type": "execute_result"
    }
   ],
   "source": [
    "ff = pd.read_pickle(\"/glade/work/hpzhang/LCC_pred/data/data_monthly.pkl\").dropna()\n",
    "df  = ff.drop(columns=['lat', 'lon', 'lsm', 'T1000', 'T700', 'EIS', 'ECTEI','ELF','SST'])\n",
    "df = df[df.index.year.isin(np.arange(2003,2019))]\n",
    "len(df)"
   ]
  },
  {
   "cell_type": "code",
   "execution_count": 54,
   "id": "aa33f1ee-8531-4a1a-b50a-7e1e8281e8cf",
   "metadata": {},
   "outputs": [],
   "source": [
    "def data_prep(df_in, months):\n",
    "\n",
    "    data = df_in[df_in.index.month.isin(months)]\n",
    "    index_train = data.index.year.isin(np.arange(2003,2015))\n",
    "    index_test  = data.index.year.isin(np.arange(2015,2019))\n",
    "    data_train = data[index_train]\n",
    "    data_test  = data[index_test]\n",
    "    print(data_test.index)\n",
    "\n",
    "    X_train, y_train = data_train.iloc[:,1:], data_train.iloc[:,0]\n",
    "    X_test, y_test   = data_test.iloc[:,1:], data_test.iloc[:,0]\n",
    "\n",
    "    from sklearn.preprocessing import StandardScaler\n",
    "    scaler=StandardScaler()\n",
    "    scaler.fit(X_train)\n",
    "\n",
    "    X_train_scaled = scaler.transform(X_train)\n",
    "    X_test_scaled  = scaler.transform(X_test)\n",
    "\n",
    "    model = xgb.XGBRegressor(learning_rate=0.1,\n",
    "                     max_depth=5,\n",
    "                     n_estimators=200,\n",
    "                     tree_method='gpu_hist', gpu_id=0)\n",
    "    model.fit(X_train_scaled, y_train)\n",
    "\n",
    "    ### save model ###\n",
    "    #file_name = \"/glade/work/hpzhang/LCC_pred/data/xgb_reg.pkl\"\n",
    "    #pickle.dump(model, open(file_name, \"wb\"))\n",
    "\n",
    "    # Predicting the Training set results\n",
    "    y_train_XGB = model.predict(X_train_scaled)\n",
    "    mse_XGB = mean_squared_error(y_train, y_train_XGB)\n",
    "    mae_XGB = mean_absolute_error(y_train, y_train_XGB)\n",
    "    print('Predict training set')\n",
    "    print('Mean squared error using Random Forest: ', mse_XGB)\n",
    "    print('Mean absolute error Using Random Forest: ', mae_XGB)    \n",
    "    \n",
    "    # Predicting the Test set results\n",
    "    y_pred_XGB = model.predict(X_test_scaled)\n",
    "    mse_XGB = mean_squared_error(y_test, y_pred_XGB)\n",
    "    mae_XGB = mean_absolute_error(y_test, y_pred_XGB)\n",
    "    print('Predict Test set')\n",
    "    print('Mean squared error using Random Forest: ', mse_XGB)\n",
    "    print('Mean absolute error Using Random Forest: ', mae_XGB)\n",
    "\n",
    "    #Feature ranking...\n",
    "    feature_list = list(data.columns[1:])\n",
    "    feature_imp_XGB = pd.Series(model.feature_importances_, index=feature_list).sort_values(ascending=False)\n",
    "    print(feature_imp_XGB)\n",
    "    \n",
    "    return y_pred_XGB\n",
    "\n",
    "\n",
    "DJF = [12, 1, 2]\n",
    "MAM = [3, 4, 5]\n",
    "JJA = [6, 7, 8]\n",
    "SON = [9, 10, 11]\n"
   ]
  },
  {
   "cell_type": "code",
   "execution_count": 55,
   "id": "ef2f6ca2-a82f-4f1c-84d7-571f333d6c6a",
   "metadata": {},
   "outputs": [
    {
     "name": "stdout",
     "output_type": "stream",
     "text": [
      "DatetimeIndex(['2015-01-15', '2015-01-15', '2015-01-15', '2015-01-15',\n",
      "               '2015-01-15', '2015-01-15', '2015-01-15', '2015-01-15',\n",
      "               '2015-01-15', '2015-01-15',\n",
      "               ...\n",
      "               '2018-12-15', '2018-12-15', '2018-12-15', '2018-12-15',\n",
      "               '2018-12-15', '2018-12-15', '2018-12-15', '2018-12-15',\n",
      "               '2018-12-15', '2018-12-15'],\n",
      "              dtype='datetime64[ns]', name='time', length=340004, freq=None)\n",
      "Predict training set\n",
      "Mean squared error using Random Forest:  0.0037101444\n",
      "Mean absolute error Using Random Forest:  0.047233995\n",
      "Predict Test set\n",
      "Mean squared error using Random Forest:  0.0040342365\n",
      "Mean absolute error Using Random Forest:  0.048993822\n",
      "TH1000      0.517228\n",
      "LTS         0.121151\n",
      "OMEGA500    0.086752\n",
      "dQ          0.044499\n",
      "RH850       0.033326\n",
      "TH850       0.032944\n",
      "Q1000       0.022319\n",
      "U1000       0.020945\n",
      "SH          0.018697\n",
      "PWV         0.018201\n",
      "RH1000      0.017270\n",
      "Tadv        0.015001\n",
      "Q700        0.013975\n",
      "Q850        0.008044\n",
      "LH          0.007658\n",
      "OMEGA700    0.006808\n",
      "U700        0.006392\n",
      "TH700       0.005789\n",
      "RH700       0.002999\n",
      "dtype: float32\n",
      "DatetimeIndex(['2015-03-15', '2015-03-15', '2015-03-15', '2015-03-15',\n",
      "               '2015-03-15', '2015-03-15', '2015-03-15', '2015-03-15',\n",
      "               '2015-03-15', '2015-03-15',\n",
      "               ...\n",
      "               '2018-05-15', '2018-05-15', '2018-05-15', '2018-05-15',\n",
      "               '2018-05-15', '2018-05-15', '2018-05-15', '2018-05-15',\n",
      "               '2018-05-15', '2018-05-15'],\n",
      "              dtype='datetime64[ns]', name='time', length=338148, freq=None)\n",
      "Predict training set\n",
      "Mean squared error using Random Forest:  0.0033580333\n",
      "Mean absolute error Using Random Forest:  0.044727143\n",
      "Predict Test set\n",
      "Mean squared error using Random Forest:  0.0036974747\n",
      "Mean absolute error Using Random Forest:  0.04663011\n",
      "Q1000       0.693839\n",
      "TH1000      0.094906\n",
      "LTS         0.049286\n",
      "PWV         0.035318\n",
      "OMEGA500    0.022424\n",
      "Q700        0.020511\n",
      "U1000       0.016936\n",
      "RH850       0.015355\n",
      "SH          0.014876\n",
      "RH1000      0.007969\n",
      "TH850       0.005305\n",
      "Tadv        0.004744\n",
      "dQ          0.003608\n",
      "U700        0.002950\n",
      "LH          0.002936\n",
      "OMEGA700    0.002551\n",
      "Q850        0.002454\n",
      "TH700       0.002274\n",
      "RH700       0.001758\n",
      "dtype: float32\n",
      "DatetimeIndex(['2015-06-15', '2015-06-15', '2015-06-15', '2015-06-15',\n",
      "               '2015-06-15', '2015-06-15', '2015-06-15', '2015-06-15',\n",
      "               '2015-06-15', '2015-06-15',\n",
      "               ...\n",
      "               '2018-08-15', '2018-08-15', '2018-08-15', '2018-08-15',\n",
      "               '2018-08-15', '2018-08-15', '2018-08-15', '2018-08-15',\n",
      "               '2018-08-15', '2018-08-15'],\n",
      "              dtype='datetime64[ns]', name='time', length=338706, freq=None)\n",
      "Predict training set\n",
      "Mean squared error using Random Forest:  0.0035607412\n",
      "Mean absolute error Using Random Forest:  0.045725334\n",
      "Predict Test set\n",
      "Mean squared error using Random Forest:  0.0038548782\n",
      "Mean absolute error Using Random Forest:  0.04705979\n",
      "Q1000       0.587194\n",
      "LTS         0.147130\n",
      "TH1000      0.042858\n",
      "OMEGA500    0.031846\n",
      "TH850       0.023887\n",
      "SH          0.023772\n",
      "Q700        0.021426\n",
      "U1000       0.020323\n",
      "PWV         0.018494\n",
      "dQ          0.017158\n",
      "Tadv        0.012558\n",
      "LH          0.012255\n",
      "RH850       0.012144\n",
      "RH1000      0.008974\n",
      "TH700       0.004881\n",
      "OMEGA700    0.004512\n",
      "RH700       0.004467\n",
      "U700        0.003188\n",
      "Q850        0.002933\n",
      "dtype: float32\n",
      "DatetimeIndex(['2015-09-15', '2015-09-15', '2015-09-15', '2015-09-15',\n",
      "               '2015-09-15', '2015-09-15', '2015-09-15', '2015-09-15',\n",
      "               '2015-09-15', '2015-09-15',\n",
      "               ...\n",
      "               '2018-11-15', '2018-11-15', '2018-11-15', '2018-11-15',\n",
      "               '2018-11-15', '2018-11-15', '2018-11-15', '2018-11-15',\n",
      "               '2018-11-15', '2018-11-15'],\n",
      "              dtype='datetime64[ns]', name='time', length=336419, freq=None)\n",
      "Predict training set\n",
      "Mean squared error using Random Forest:  0.0034014978\n",
      "Mean absolute error Using Random Forest:  0.044935185\n",
      "Predict Test set\n",
      "Mean squared error using Random Forest:  0.0037626666\n",
      "Mean absolute error Using Random Forest:  0.047029827\n",
      "TH1000      0.518755\n",
      "LTS         0.148796\n",
      "dQ          0.051086\n",
      "OMEGA500    0.039919\n",
      "PWV         0.039730\n",
      "Q700        0.037917\n",
      "TH850       0.027449\n",
      "Q1000       0.025604\n",
      "U1000       0.025118\n",
      "RH850       0.014250\n",
      "TH700       0.014208\n",
      "SH          0.013400\n",
      "Tadv        0.011522\n",
      "Q850        0.008795\n",
      "RH1000      0.007970\n",
      "LH          0.005119\n",
      "OMEGA700    0.004364\n",
      "U700        0.003124\n",
      "RH700       0.002874\n",
      "dtype: float32\n"
     ]
    }
   ],
   "source": [
    "y_pred_XGB_DJF = data_prep(df, DJF)\n",
    "y_pred_XGB_MAM = data_prep(df, MAM)\n",
    "y_pred_XGB_JJA = data_prep(df, JJA)\n",
    "y_pred_XGB_SON = data_prep(df, SON)"
   ]
  },
  {
   "cell_type": "code",
   "execution_count": 56,
   "id": "277a17e8-e35f-406e-863b-41c2020c3c8c",
   "metadata": {},
   "outputs": [],
   "source": [
    "### output ###\n",
    "\n",
    "var = 'XGB_diff_season'\n",
    "os.system(\"mkdir -p /glade/work/hpzhang/LCC_pred/data/{}\".format(var))\n",
    "np.save(\"/glade/work/hpzhang/LCC_pred/data/{}/y_pred_XGB_DJF.npy\".format(var), np.array(y_pred_XGB_DJF))\n",
    "np.save(\"/glade/work/hpzhang/LCC_pred/data/{}/y_pred_XGB_MAM.npy\".format(var), np.array(y_pred_XGB_MAM))\n",
    "np.save(\"/glade/work/hpzhang/LCC_pred/data/{}/y_pred_XGB_JJA.npy\".format(var), np.array(y_pred_XGB_JJA))\n",
    "np.save(\"/glade/work/hpzhang/LCC_pred/data/{}/y_pred_XGB_SON.npy\".format(var), np.array(y_pred_XGB_SON))\n",
    "\n"
   ]
  },
  {
   "cell_type": "code",
   "execution_count": 57,
   "id": "2b68a5de-c54a-4b6e-b964-250a5dad5287",
   "metadata": {},
   "outputs": [
    {
     "data": {
      "text/plain": [
       "340004"
      ]
     },
     "execution_count": 57,
     "metadata": {},
     "output_type": "execute_result"
    }
   ],
   "source": [
    "len(y_pred_XGB_DJF)"
   ]
  },
  {
   "cell_type": "code",
   "execution_count": null,
   "id": "3308d9be-433c-4667-b66c-275ac9cf16dc",
   "metadata": {},
   "outputs": [],
   "source": []
  }
 ],
 "metadata": {
  "colab": {
   "collapsed_sections": [],
   "name": "ML_diff_season.ipynb",
   "provenance": []
  },
  "kernelspec": {
   "display_name": "Python [conda env:anaconda3-geocat]",
   "language": "python",
   "name": "conda-env-anaconda3-geocat-py"
  },
  "language_info": {
   "codemirror_mode": {
    "name": "ipython",
    "version": 3
   },
   "file_extension": ".py",
   "mimetype": "text/x-python",
   "name": "python",
   "nbconvert_exporter": "python",
   "pygments_lexer": "ipython3",
   "version": "3.9.12"
  }
 },
 "nbformat": 4,
 "nbformat_minor": 5
}
