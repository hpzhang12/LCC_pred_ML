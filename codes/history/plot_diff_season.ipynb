{
 "cells": [
  {
   "cell_type": "code",
   "execution_count": 105,
   "id": "2da244e9",
   "metadata": {
    "id": "2da244e9"
   },
   "outputs": [],
   "source": [
    "import numpy  as np\n",
    "import pandas as pd\n",
    "import seaborn as sns\n",
    "import matplotlib.pyplot as plt\n",
    "import scipy.stats\n",
    "from sklearn.metrics import mean_squared_error, mean_absolute_error\n",
    "from scipy import stats"
   ]
  },
  {
   "cell_type": "code",
   "execution_count": 106,
   "id": "5a8f8708-4dea-4a5d-9eb1-caa78de3a498",
   "metadata": {},
   "outputs": [],
   "source": [
    "df = pd.read_pickle(\"/glade/work/hpzhang/LCC_pred/data/data_monthly.pkl\").dropna()\n",
    "df = df[df.index.year.isin(np.arange(2015,2019))]\n",
    "\n",
    "pred_XGB    = np.load('/glade/work/hpzhang/LCC_pred/data/XGB/y_pred_XGB.npy')\n",
    "\n",
    "pred_XGB_DJF  = np.load('/glade/work/hpzhang/LCC_pred/data/XGB_diff_season/y_pred_XGB_DJF.npy')\n",
    "pred_XGB_MAM  = np.load('/glade/work/hpzhang/LCC_pred/data/XGB_diff_season/y_pred_XGB_MAM.npy')\n",
    "pred_XGB_JJA  = np.load('/glade/work/hpzhang/LCC_pred/data/XGB_diff_season/y_pred_XGB_JJA.npy')\n",
    "pred_XGB_SON  = np.load('/glade/work/hpzhang/LCC_pred/data/XGB_diff_season/y_pred_XGB_SON.npy')                        "
   ]
  },
  {
   "cell_type": "code",
   "execution_count": 107,
   "id": "e94db35b-bcb5-437a-99d4-ca7d7c25a529",
   "metadata": {},
   "outputs": [],
   "source": [
    "df_new = pd.DataFrame({'LCF':df['LCF'],\n",
    "                       'XGB':pred_XGB,\n",
    "                      }, index=df.index)"
   ]
  },
  {
   "cell_type": "code",
   "execution_count": 108,
   "id": "9c9c7f3a-fcec-4905-9f84-3374d62adeb0",
   "metadata": {},
   "outputs": [],
   "source": [
    "DJF = [12, 1, 2]\n",
    "MAM = [3, 4, 5]\n",
    "JJA = [6, 7, 8]\n",
    "SON = [9, 10, 11]\n",
    "\n",
    "df_new['XGB_seasons'] = np.NaN\n",
    "df_new.loc[df_new.index.month.isin(DJF), 'XGB_seasons'] = pred_XGB_DJF\n",
    "df_new.loc[df_new.index.month.isin(MAM), 'XGB_seasons'] = pred_XGB_MAM\n",
    "df_new.loc[df_new.index.month.isin(JJA), 'XGB_seasons'] = pred_XGB_JJA\n",
    "df_new.loc[df_new.index.month.isin(SON), 'XGB_seasons'] = pred_XGB_SON\n",
    "\n",
    "df_new['season'] = ''\n",
    "df_new.loc[df_new.index.month.isin(DJF), 'season']='DJF'\n",
    "df_new.loc[df_new.index.month.isin(MAM), 'season']='MAM'\n",
    "df_new.loc[df_new.index.month.isin(JJA), 'season']='JJA'\n",
    "df_new.loc[df_new.index.month.isin(SON), 'season']='SON'\n",
    "\n",
    "df_new = pd.melt(df_new, id_vars=['season','LCF'], var_name='model', value_name='pred')"
   ]
  },
  {
   "cell_type": "code",
   "execution_count": 109,
   "id": "ec784cc9-e963-40d6-810d-e14cb0da203d",
   "metadata": {},
   "outputs": [],
   "source": [
    "def get_res(df_in):\n",
    "    mse = mean_squared_error(df_in['LCF'], df_in['pred'])\n",
    "    mae = mean_absolute_error(df_in['LCF'], df_in['pred'])\n",
    "    r,p = scipy.stats.pearsonr(df_in['LCF'], df_in['pred'])\n",
    "    ttest = stats.ttest_ind(df_in['LCF'], df_in['pred'])[1]\n",
    "    \n",
    "    res = pd.Series([mse,mae,r,p,ttest], index=['MSE','MAE','r','p','ttest'])\n",
    "\n",
    "    return(res)    \n",
    "    \n",
    " \n",
    "res       = df_new.groupby(['model','season']).apply(get_res).reset_index(level=[0,1])\n",
    "res.ttest = round(res.ttest, 2)\n",
    "plt_dat = pd.melt(res, id_vars=['model','season','p','ttest'], var_name='type')"
   ]
  },
  {
   "cell_type": "code",
   "execution_count": 110,
   "id": "08cddcdd-b6ae-4511-80d6-92ddc1e578fa",
   "metadata": {},
   "outputs": [
    {
     "data": {
      "text/html": [
       "<div>\n",
       "<style scoped>\n",
       "    .dataframe tbody tr th:only-of-type {\n",
       "        vertical-align: middle;\n",
       "    }\n",
       "\n",
       "    .dataframe tbody tr th {\n",
       "        vertical-align: top;\n",
       "    }\n",
       "\n",
       "    .dataframe thead th {\n",
       "        text-align: right;\n",
       "    }\n",
       "</style>\n",
       "<table border=\"1\" class=\"dataframe\">\n",
       "  <thead>\n",
       "    <tr style=\"text-align: right;\">\n",
       "      <th></th>\n",
       "      <th>model</th>\n",
       "      <th>season</th>\n",
       "      <th>MSE</th>\n",
       "      <th>MAE</th>\n",
       "      <th>r</th>\n",
       "      <th>p</th>\n",
       "      <th>ttest</th>\n",
       "    </tr>\n",
       "  </thead>\n",
       "  <tbody>\n",
       "    <tr>\n",
       "      <th>0</th>\n",
       "      <td>XGB</td>\n",
       "      <td>DJF</td>\n",
       "      <td>0.003856</td>\n",
       "      <td>0.047774</td>\n",
       "      <td>0.916611</td>\n",
       "      <td>0.0</td>\n",
       "      <td>0.00</td>\n",
       "    </tr>\n",
       "    <tr>\n",
       "      <th>1</th>\n",
       "      <td>XGB</td>\n",
       "      <td>JJA</td>\n",
       "      <td>0.003587</td>\n",
       "      <td>0.045681</td>\n",
       "      <td>0.941402</td>\n",
       "      <td>0.0</td>\n",
       "      <td>0.00</td>\n",
       "    </tr>\n",
       "    <tr>\n",
       "      <th>2</th>\n",
       "      <td>XGB</td>\n",
       "      <td>MAM</td>\n",
       "      <td>0.003493</td>\n",
       "      <td>0.045217</td>\n",
       "      <td>0.923638</td>\n",
       "      <td>0.0</td>\n",
       "      <td>0.00</td>\n",
       "    </tr>\n",
       "    <tr>\n",
       "      <th>3</th>\n",
       "      <td>XGB</td>\n",
       "      <td>SON</td>\n",
       "      <td>0.003617</td>\n",
       "      <td>0.046050</td>\n",
       "      <td>0.937022</td>\n",
       "      <td>0.0</td>\n",
       "      <td>0.13</td>\n",
       "    </tr>\n",
       "    <tr>\n",
       "      <th>4</th>\n",
       "      <td>XGB_seasons</td>\n",
       "      <td>DJF</td>\n",
       "      <td>0.004034</td>\n",
       "      <td>0.048994</td>\n",
       "      <td>0.912342</td>\n",
       "      <td>0.0</td>\n",
       "      <td>0.00</td>\n",
       "    </tr>\n",
       "    <tr>\n",
       "      <th>5</th>\n",
       "      <td>XGB_seasons</td>\n",
       "      <td>JJA</td>\n",
       "      <td>0.003855</td>\n",
       "      <td>0.047060</td>\n",
       "      <td>0.936745</td>\n",
       "      <td>0.0</td>\n",
       "      <td>0.00</td>\n",
       "    </tr>\n",
       "    <tr>\n",
       "      <th>6</th>\n",
       "      <td>XGB_seasons</td>\n",
       "      <td>MAM</td>\n",
       "      <td>0.003697</td>\n",
       "      <td>0.046630</td>\n",
       "      <td>0.918821</td>\n",
       "      <td>0.0</td>\n",
       "      <td>0.00</td>\n",
       "    </tr>\n",
       "    <tr>\n",
       "      <th>7</th>\n",
       "      <td>XGB_seasons</td>\n",
       "      <td>SON</td>\n",
       "      <td>0.003763</td>\n",
       "      <td>0.047030</td>\n",
       "      <td>0.934710</td>\n",
       "      <td>0.0</td>\n",
       "      <td>0.00</td>\n",
       "    </tr>\n",
       "  </tbody>\n",
       "</table>\n",
       "</div>"
      ],
      "text/plain": [
       "         model season       MSE       MAE         r    p  ttest\n",
       "0          XGB    DJF  0.003856  0.047774  0.916611  0.0   0.00\n",
       "1          XGB    JJA  0.003587  0.045681  0.941402  0.0   0.00\n",
       "2          XGB    MAM  0.003493  0.045217  0.923638  0.0   0.00\n",
       "3          XGB    SON  0.003617  0.046050  0.937022  0.0   0.13\n",
       "4  XGB_seasons    DJF  0.004034  0.048994  0.912342  0.0   0.00\n",
       "5  XGB_seasons    JJA  0.003855  0.047060  0.936745  0.0   0.00\n",
       "6  XGB_seasons    MAM  0.003697  0.046630  0.918821  0.0   0.00\n",
       "7  XGB_seasons    SON  0.003763  0.047030  0.934710  0.0   0.00"
      ]
     },
     "execution_count": 110,
     "metadata": {},
     "output_type": "execute_result"
    }
   ],
   "source": [
    "res"
   ]
  },
  {
   "cell_type": "code",
   "execution_count": 112,
   "id": "3eca3bfc",
   "metadata": {},
   "outputs": [
    {
     "data": {
      "image/png": "[encoded data removed]",
      "text/plain": [
       "<Figure size 828.86x648 with 3 Axes>"
      ]
     },
     "metadata": {},
     "output_type": "display_data"
    }
   ],
   "source": [
    "custom_params = {\"axes.spines.right\": False, \"axes.spines.top\": False}\n",
    "sns.set_theme(style=\"ticks\", rc=custom_params, font_scale = 1.6)\n",
    "\n",
    "g = sns.FacetGrid(plt_dat, row=\"type\", sharey=False, height=3, aspect=3)\n",
    "g.map(sns.barplot, \"season\", \"value\", 'model',\n",
    "      order=['MAM', 'JJA', 'SON', 'DJF'],\n",
    "      hue_order=['XGB', 'XGB_seasons'],\n",
    "      palette=\"Paired\")\n",
    "g.add_legend()\n",
    "\n",
    "axes = g.axes.flatten()\n",
    "axes[2].set_xlabel('Season')\n",
    "\n",
    "ti = ['(a) MSE','(b) MAE','(c) r']\n",
    "\n",
    "for i, ax in enumerate(axes):\n",
    "    ax.set_title('')\n",
    "    ax.set_ylabel('')\n",
    "    ax.annotate(ti[i], xy=(-0.01, 1.1), xycoords='axes fraction', fontsize=25)\n",
    "#    ax.set_ylim([0,1]) if i==2 else None\n",
    "    \n",
    "plt.subplots_adjust(hspace=0.5) \n",
    "plt.show()\n"
   ]
  }
 ],
 "metadata": {
  "colab": {
   "collapsed_sections": [],
   "name": "plot_monthly.ipynb",
   "provenance": []
  },
  "kernelspec": {
   "display_name": "Python [conda env:anaconda3-geocat]",
   "language": "python",
   "name": "conda-env-anaconda3-geocat-py"
  },
  "language_info": {
   "codemirror_mode": {
    "name": "ipython",
    "version": 3
   },
   "file_extension": ".py",
   "mimetype": "text/x-python",
   "name": "python",
   "nbconvert_exporter": "python",
   "pygments_lexer": "ipython3",
   "version": "3.9.12"
  }
 },
 "nbformat": 4,
 "nbformat_minor": 5
}
